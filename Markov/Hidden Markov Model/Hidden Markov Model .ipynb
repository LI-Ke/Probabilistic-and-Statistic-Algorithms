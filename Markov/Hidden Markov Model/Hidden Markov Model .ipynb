{
 "cells": [
  {
   "cell_type": "markdown",
   "metadata": {},
   "source": [
    "# MMC et reconnaissance de lettres"
   ]
  },
  {
   "cell_type": "code",
   "execution_count": 2,
   "metadata": {
    "collapsed": true
   },
   "outputs": [],
   "source": [
    "import numpy as np\n",
    "import matplotlib.pyplot as plt\n",
    "import pickle as pkl"
   ]
  },
  {
   "cell_type": "markdown",
   "metadata": {},
   "source": [
    "## Chargement de données"
   ]
  },
  {
   "cell_type": "code",
   "execution_count": 4,
   "metadata": {
    "collapsed": false
   },
   "outputs": [
    {
     "name": "stdout",
     "output_type": "stream",
     "text": [
      "X0 =  [  36.21  347.72  322.09  312.23  314.85  315.49  313.56  326.53  141.29  167.61  199.32  217.91  226.44  235.    252.35  270.05  291.67  350.93   17.89   20.28   28.21   43.88   53.46]\n",
      "Y =  ['a' 'a' 'a' 'a' 'a' 'a' 'a' 'a' 'a' 'a' 'a' 'b' 'b' 'b' 'b' 'b' 'b' 'b' 'b' 'b' 'b' 'b' 'c' 'c' 'c' 'c' 'c' 'c' 'c' 'c' 'c' 'c' 'c' 'd' 'd' 'd' 'd' 'd' 'd' 'd' 'd' 'd' 'd' 'd' 'e' 'e' 'e' 'e' 'e' 'e' 'e' 'e' 'e' 'e' 'e' 'f' 'f' 'f' 'f' 'f' 'f' 'f' 'f' 'f' 'f' 'f' 'g' 'g' 'g' 'g' 'g' 'g' 'g' 'g' 'g' 'g' 'g' 'h' 'h' 'h'\n",
      " 'h' 'h' 'h' 'h' 'h' 'h' 'h' 'h' 'i' 'i' 'i' 'i' 'i' 'i' 'i' 'i' 'i' 'i' 'j' 'j' 'j' 'j' 'j' 'j' 'j' 'j' 'j' 'j' 'k' 'k' 'k' 'k' 'k' 'k' 'k' 'k' 'k' 'k' 'l' 'l' 'l' 'l' 'l' 'l' 'l' 'l' 'l' 'l' 'm' 'm' 'm' 'm' 'm' 'm' 'm' 'm' 'm' 'm' 'n' 'n' 'n' 'n' 'n' 'n' 'n' 'n' 'n' 'n' 'o' 'o' 'o' 'o' 'o' 'o' 'o' 'o' 'o' 'o' 'p' 'p'\n",
      " 'p' 'p' 'p' 'p' 'p' 'p' 'p' 'p' 'q' 'q' 'q' 'q' 'q' 'q' 'q' 'q' 'q' 'q' 'r' 'r' 'r' 'r' 'r' 'r' 'r' 'r' 'r' 'r' 's' 's' 's' 's' 's' 's' 's' 's' 's' 's' 't' 't' 't' 't' 't' 't' 't' 't' 't' 't' 'u' 'u' 'u' 'u' 'u' 'u' 'u' 'u' 'u' 'u' 'v' 'v' 'v' 'v' 'v' 'v' 'v' 'v' 'v' 'v' 'w' 'w' 'w' 'w' 'w' 'w' 'w' 'w' 'w' 'w' 'x' 'x'\n",
      " 'x' 'x' 'x' 'x' 'x' 'x' 'x' 'x' 'y' 'y' 'y' 'y' 'y' 'y' 'y' 'y' 'y' 'y' 'z' 'z' 'z' 'z' 'z' 'z' 'z' 'z' 'z' 'z']\n"
     ]
    }
   ],
   "source": [
    "# truc pour un affichage plus convivial des matrices numpy\n",
    "np.set_printoptions(precision=2, linewidth=320)\n",
    "plt.close('all')\n",
    "\n",
    "with open('ressources/lettres.pkl', 'rb') as f:\n",
    "    data = pkl.load(f, encoding='latin1')\n",
    "X = np.array(data.get('letters')) # récupération des données sur les lettres\n",
    "Y = np.array(data.get('labels')) # récupération des étiquettes associées\n",
    "\n",
    "nCl = 26\n",
    "#print X\n",
    "print ('X0 = ',X[0])\n",
    "print ('Y = ',Y)"
   ]
  },
  {
   "cell_type": "markdown",
   "metadata": {},
   "source": [
    "## Apprentissage d'un modèle connaissant les états"
   ]
  },
  {
   "cell_type": "markdown",
   "metadata": {},
   "source": [
    "### Hypothèse Gauche-Droite"
   ]
  },
  {
   "cell_type": "code",
   "execution_count": 6,
   "metadata": {
    "collapsed": false
   },
   "outputs": [
    {
     "name": "stdout",
     "output_type": "stream",
     "text": [
      "23\n"
     ]
    }
   ],
   "source": [
    "def initGD(X,N):\n",
    "\tS=[]\t\t\n",
    "\tfor x in X:\n",
    "\t\tS.append(np.floor(np.linspace(0,N-.00000001,len(x))))\n",
    "\treturn np.array(S)\n",
    "\n",
    "S=initGD(X,4)\n",
    "print (len(S[0]))"
   ]
  },
  {
   "cell_type": "code",
   "execution_count": 7,
   "metadata": {
    "collapsed": false
   },
   "outputs": [
    {
     "name": "stdout",
     "output_type": "stream",
     "text": [
      "X0 =  [ 1.  9.  8.  8.  8.  8.  8.  9.  3.  4.  5.  6.  6.  6.  7.  7.  8.  9.  0.  0.  0.  1.  1.]\n",
      "S0 =  [ 0.  0.  0.  0.  0.  0.  1.  1.  1.  1.  1.  1.  2.  2.  2.  2.  2.  3.  3.  3.  3.  3.  3.]\n"
     ]
    }
   ],
   "source": [
    "def discretise(X,d):\n",
    "\tintervalle=360./d\n",
    "\tXd=np.array(X)\n",
    "\tfor i in range(len(X)):\n",
    "\t\tXd[i]=np.floor(X[i]/intervalle)\n",
    "\treturn Xd\n",
    "\n",
    "\n",
    "K = 10 \n",
    "Xd=discretise(X,K)\n",
    "print ('X0 = ',Xd[0])\n",
    "print ('S0 = ',S[0])"
   ]
  },
  {
   "cell_type": "markdown",
   "metadata": {},
   "source": [
    "### Apprentissage"
   ]
  },
  {
   "cell_type": "code",
   "execution_count": 8,
   "metadata": {
    "collapsed": false
   },
   "outputs": [
    {
     "name": "stdout",
     "output_type": "stream",
     "text": [
      "Pi =  [ 1.  0.  0.  0.  0.]\n",
      "A =  [[ 0.79  0.21  0.    0.    0.  ]\n",
      " [ 0.    0.76  0.24  0.    0.  ]\n",
      " [ 0.    0.    0.77  0.23  0.  ]\n",
      " [ 0.    0.    0.    0.76  0.24]\n",
      " [ 0.    0.    0.    0.    1.  ]]\n",
      "B =  [[ 0.06  0.02  0.    0.    0.    0.    0.    0.04  0.49  0.4 ]\n",
      " [ 0.    0.04  0.    0.13  0.09  0.13  0.02  0.09  0.41  0.09]\n",
      " [ 0.    0.    0.    0.02  0.12  0.5   0.31  0.04  0.    0.  ]\n",
      " [ 0.07  0.    0.    0.    0.    0.    0.26  0.33  0.2   0.15]\n",
      " [ 0.73  0.12  0.    0.    0.    0.    0.    0.02  0.02  0.12]]\n"
     ]
    },
    {
     "name": "stderr",
     "output_type": "stream",
     "text": [
      "/home/like/anaconda3/lib/python3.5/site-packages/ipykernel/__main__.py:15: VisibleDeprecationWarning: using a non-integer number instead of an integer will result in an error in the future\n",
      "/home/like/anaconda3/lib/python3.5/site-packages/ipykernel/__main__.py:18: VisibleDeprecationWarning: using a non-integer number instead of an integer will result in an error in the future\n",
      "/home/like/anaconda3/lib/python3.5/site-packages/ipykernel/__main__.py:19: VisibleDeprecationWarning: using a non-integer number instead of an integer will result in an error in the future\n",
      "/home/like/anaconda3/lib/python3.5/site-packages/ipykernel/__main__.py:22: VisibleDeprecationWarning: using a non-integer number instead of an integer will result in an error in the future\n"
     ]
    }
   ],
   "source": [
    "def learnHMM(allx, allS, N, K, initTo0=False):\n",
    "\tif initTo0:\n",
    "\t\tA = np.zeros((N,N))\n",
    "\t\tB = np.zeros((N,K))\n",
    "\t\tPi = np.zeros(N)\n",
    "\telse:\n",
    "\t\teps = 1e-8\n",
    "\t\tA = np.ones((N,N))*eps\n",
    "\t\tB = np.ones((N,K))*eps\n",
    "\t\tPi = np.ones(N)*eps\n",
    "\tfor i in range(len(allS)):\n",
    "\t\tS=allS[i]\n",
    "\t\tX=allx[i]\n",
    "\t\tk=S[0]\n",
    "\t\tPi[k]+=1.\n",
    "\t\tj=0\n",
    "\t\tfor s in S[1:]:\n",
    "\t\t\tA[k][s]+=1. \n",
    "\t\t\tB[k][X[j]]+=1.\n",
    "\t\t\tk=s\n",
    "\t\t\tj+=1\n",
    "\t\tB[k][X[j]]+=1.\n",
    "\tfor i in range(N):\n",
    "\t\tA[i]=A[i]/max(A[i].sum(),1)\n",
    "\t\tB[i]=B[i]/max(B[i].sum(),1)\n",
    "\tPi=Pi/max(Pi.sum(),1)\n",
    "\treturn Pi,A,B\n",
    "\n",
    "K = 10 # discretisation (=10 observations possibles)\n",
    "N = 5  # 5 etats possibles (de 0 a 4 en python)\n",
    "# Xd = angles observes discretises\n",
    "\n",
    "S=initGD(X,N)\n",
    "Xd=discretise(X,K)\n",
    "\n",
    "Pi, A, B = learnHMM(Xd[Y=='a'],S[Y=='a'],N,K,True)\n",
    "\n",
    "print ('Pi = ',Pi)\n",
    "print ('A = ',A)\n",
    "print ('B = ',B)"
   ]
  },
  {
   "cell_type": "markdown",
   "metadata": {},
   "source": [
    "### Viterbi (en log)"
   ]
  },
  {
   "cell_type": "code",
   "execution_count": 9,
   "metadata": {
    "collapsed": false
   },
   "outputs": [
    {
     "name": "stdout",
     "output_type": "stream",
     "text": [
      "s_est =  [ 0.  0.  0.  0.  0.  0.  0.  0.  1.  2.  2.  2.  2.  2.  3.  3.  3.  3.  4.  4.  4.  4.  4.]\n",
      "p_est =  -38.0935655456\n"
     ]
    },
    {
     "name": "stderr",
     "output_type": "stream",
     "text": [
      "/home/like/anaconda3/lib/python3.5/site-packages/ipykernel/__main__.py:5: RuntimeWarning: divide by zero encountered in log\n",
      "/home/like/anaconda3/lib/python3.5/site-packages/ipykernel/__main__.py:5: VisibleDeprecationWarning: using a non-integer number instead of an integer will result in an error in the future\n",
      "/home/like/anaconda3/lib/python3.5/site-packages/ipykernel/__main__.py:10: RuntimeWarning: divide by zero encountered in log\n",
      "/home/like/anaconda3/lib/python3.5/site-packages/ipykernel/__main__.py:11: VisibleDeprecationWarning: using a non-integer number instead of an integer will result in an error in the future\n",
      "/home/like/anaconda3/lib/python3.5/site-packages/ipykernel/__main__.py:11: RuntimeWarning: divide by zero encountered in log\n",
      "/home/like/anaconda3/lib/python3.5/site-packages/ipykernel/__main__.py:19: VisibleDeprecationWarning: using a non-integer number instead of an integer will result in an error in the future\n"
     ]
    }
   ],
   "source": [
    "def viterbi(x,Pi,A,B):\n",
    "\tT=len(x)\n",
    "\tn=len(Pi)\n",
    "\tsigma=np.zeros((T,n))\n",
    "\tsigma[0]=np.log(Pi)+np.log(B[:,x[0]])\n",
    "\tphi=-np.ones((T,n)) \n",
    "\n",
    "\tfor t in range(1,T):\n",
    "\t\tfor j in range(n):\n",
    "\t\t\targmax = (sigma[t-1] + np.log(A[:,j])).argmax()\n",
    "\t\t\tsigma[t][j]= sigma[t-1,argmax] + np.log(A[argmax,j]) + np.log(B[j,x[t]])\n",
    "\t\t\tphi[t][j]= argmax\n",
    "\t\n",
    "\tS=max(sigma[T-1])\n",
    "\ts=np.zeros(T)\n",
    "\ts[T-1]=sigma[T-1].argmax(0)\n",
    "\ti=T-2\n",
    "\twhile i>=0:\n",
    "\t\ts[i]=phi[i+1][s[i+1]]\n",
    "\t\ti-=1\n",
    "\treturn s,S\n",
    "\n",
    "s_est, p_est = viterbi(Xd[0], Pi, A, B)\n",
    "\n",
    "print ('s_est = ',s_est)\n",
    "print ('p_est = ',p_est)"
   ]
  }
 ],
 "metadata": {
  "anaconda-cloud": {},
  "kernelspec": {
   "display_name": "Python [default]",
   "language": "python",
   "name": "python3"
  },
  "language_info": {
   "codemirror_mode": {
    "name": "ipython",
    "version": 3
   },
   "file_extension": ".py",
   "mimetype": "text/x-python",
   "name": "python",
   "nbconvert_exporter": "python",
   "pygments_lexer": "ipython3",
   "version": "3.5.2"
  }
 },
 "nbformat": 4,
 "nbformat_minor": 1
}
