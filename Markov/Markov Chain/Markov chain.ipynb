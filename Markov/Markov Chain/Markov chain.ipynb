{
 "cells": [
  {
   "cell_type": "markdown",
   "metadata": {},
   "source": [
    "# Chaine de Markov: classification de lettres manuscrites"
   ]
  },
  {
   "cell_type": "code",
   "execution_count": 1,
   "metadata": {
    "collapsed": false
   },
   "outputs": [],
   "source": [
    "import numpy as np\n",
    "import pickle as pkl\n",
    "import matplotlib.pyplot as plt\n",
    "from random import *\n",
    "import pickle"
   ]
  },
  {
   "cell_type": "code",
   "execution_count": 2,
   "metadata": {
    "collapsed": false
   },
   "outputs": [],
   "source": [
    "with open('ressources/lettres.pkl', 'rb') as f:\n",
    "    data = pickle.load(f, encoding='latin1')\n",
    "X = np.array(data.get('letters')) # récupération des données sur les lettres\n",
    "Y = np.array(data.get('labels')) # récupération des étiquettes associées"
   ]
  },
  {
   "cell_type": "code",
   "execution_count": 4,
   "metadata": {
    "collapsed": false
   },
   "outputs": [
    {
     "name": "stdout",
     "output_type": "stream",
     "text": [
      "[  36.214493  347.719116  322.088898  312.230957  314.851013  315.487213\n",
      "  313.556702  326.534973  141.288971  167.606689  199.321594  217.911087\n",
      "  226.443298  235.002472  252.354492  270.045654  291.665161  350.934723\n",
      "   17.892815   20.281025   28.207161   43.883423   53.459026]\n",
      "['a' 'a' 'a' 'a' 'a' 'a' 'a' 'a' 'a' 'a' 'a' 'b' 'b' 'b' 'b' 'b' 'b' 'b'\n",
      " 'b' 'b' 'b' 'b' 'c' 'c' 'c' 'c' 'c' 'c' 'c' 'c' 'c' 'c' 'c' 'd' 'd' 'd'\n",
      " 'd' 'd' 'd' 'd' 'd' 'd' 'd' 'd' 'e' 'e' 'e' 'e' 'e' 'e' 'e' 'e' 'e' 'e'\n",
      " 'e' 'f' 'f' 'f' 'f' 'f' 'f' 'f' 'f' 'f' 'f' 'f' 'g' 'g' 'g' 'g' 'g' 'g'\n",
      " 'g' 'g' 'g' 'g' 'g' 'h' 'h' 'h' 'h' 'h' 'h' 'h' 'h' 'h' 'h' 'h' 'i' 'i'\n",
      " 'i' 'i' 'i' 'i' 'i' 'i' 'i' 'i' 'j' 'j' 'j' 'j' 'j' 'j' 'j' 'j' 'j' 'j'\n",
      " 'k' 'k' 'k' 'k' 'k' 'k' 'k' 'k' 'k' 'k' 'l' 'l' 'l' 'l' 'l' 'l' 'l' 'l'\n",
      " 'l' 'l' 'm' 'm' 'm' 'm' 'm' 'm' 'm' 'm' 'm' 'm' 'n' 'n' 'n' 'n' 'n' 'n'\n",
      " 'n' 'n' 'n' 'n' 'o' 'o' 'o' 'o' 'o' 'o' 'o' 'o' 'o' 'o' 'p' 'p' 'p' 'p'\n",
      " 'p' 'p' 'p' 'p' 'p' 'p' 'q' 'q' 'q' 'q' 'q' 'q' 'q' 'q' 'q' 'q' 'r' 'r'\n",
      " 'r' 'r' 'r' 'r' 'r' 'r' 'r' 'r' 's' 's' 's' 's' 's' 's' 's' 's' 's' 's'\n",
      " 't' 't' 't' 't' 't' 't' 't' 't' 't' 't' 'u' 'u' 'u' 'u' 'u' 'u' 'u' 'u'\n",
      " 'u' 'u' 'v' 'v' 'v' 'v' 'v' 'v' 'v' 'v' 'v' 'v' 'w' 'w' 'w' 'w' 'w' 'w'\n",
      " 'w' 'w' 'w' 'w' 'x' 'x' 'x' 'x' 'x' 'x' 'x' 'x' 'x' 'x' 'y' 'y' 'y' 'y'\n",
      " 'y' 'y' 'y' 'y' 'y' 'y' 'z' 'z' 'z' 'z' 'z' 'z' 'z' 'z' 'z' 'z']\n"
     ]
    }
   ],
   "source": [
    "#Les données sont dans un format original: une lettre est en fait une série d'angles (exprimés en degrés).\n",
    "print (X[0])\n",
    "print (Y)"
   ]
  },
  {
   "cell_type": "code",
   "execution_count": 7,
   "metadata": {
    "collapsed": true
   },
   "outputs": [],
   "source": [
    "# affichage d'une lettre\n",
    "def tracerLettre(let):\n",
    "    a = -let*np.pi/180; # conversion en rad\n",
    "    coord = np.array([[0, 0]]); # point initial\n",
    "    for i in range(len(a)):\n",
    "        x = np.array([[1, 0]]);\n",
    "        rot = np.array([[np.cos(a[i]), -np.sin(a[i])],[ np.sin(a[i]),np.cos(a[i])]])\n",
    "        xr = x.dot(rot) # application de la rotation\n",
    "        coord = np.vstack((coord,xr+coord[-1,:]))\n",
    "    plt.plot(coord[:,0],coord[:,1])\n",
    "    plt.show()\n",
    "    return"
   ]
  },
  {
   "cell_type": "code",
   "execution_count": 8,
   "metadata": {
    "collapsed": false
   },
   "outputs": [
    {
     "data": {
      "image/png": "[encoded data removed]",
      "text/plain": [
       "<matplotlib.figure.Figure at 0x7fdba9a67588>"
      ]
     },
     "metadata": {},
     "output_type": "display_data"
    }
   ],
   "source": [
    "tracerLettre(X[0])"
   ]
  },
  {
   "cell_type": "markdown",
   "metadata": {},
   "source": [
    "## Apprentissage d'un modèle CM (max de vraisemblance)"
   ]
  },
  {
   "cell_type": "markdown",
   "metadata": {},
   "source": [
    "### 1. Discrétisation"
   ]
  },
  {
   "cell_type": "code",
   "execution_count": 9,
   "metadata": {
    "collapsed": true
   },
   "outputs": [],
   "source": [
    "def discretise(X,d):\n",
    "    intervalle=360./d\n",
    "    Xd=np.array(X)\n",
    "    for i in range(len(X)):\n",
    "        Xd[i]=np.floor(X[i]/intervalle)\n",
    "    return Xd"
   ]
  },
  {
   "cell_type": "code",
   "execution_count": 10,
   "metadata": {
    "collapsed": false
   },
   "outputs": [
    {
     "name": "stdout",
     "output_type": "stream",
     "text": [
      "[  2.  19.  17.  17.  17.  17.  17.  18.   7.   9.  11.  12.  12.  13.  14.\n",
      "  15.  16.  19.   0.   1.   1.   2.   2.]\n"
     ]
    }
   ],
   "source": [
    "print (discretise(X,20)[0])"
   ]
  },
  {
   "cell_type": "markdown",
   "metadata": {},
   "source": [
    "### 2. Regrouper les indices des signaux par classe (pour faciliter l'apprentissage)"
   ]
  },
  {
   "cell_type": "code",
   "execution_count": 11,
   "metadata": {
    "collapsed": true
   },
   "outputs": [],
   "source": [
    "def groupByLabel(y):\n",
    "    index = []\n",
    "    for i in np.unique(y): # pour toutes les classes\n",
    "        ind, = np.where(y==i)\n",
    "        index.append(ind)\n",
    "    return index"
   ]
  },
  {
   "cell_type": "code",
   "execution_count": 12,
   "metadata": {
    "collapsed": false
   },
   "outputs": [
    {
     "name": "stdout",
     "output_type": "stream",
     "text": [
      "[array([ 0,  1,  2,  3,  4,  5,  6,  7,  8,  9, 10]), array([11, 12, 13, 14, 15, 16, 17, 18, 19, 20, 21]), array([22, 23, 24, 25, 26, 27, 28, 29, 30, 31, 32]), array([33, 34, 35, 36, 37, 38, 39, 40, 41, 42, 43]), array([44, 45, 46, 47, 48, 49, 50, 51, 52, 53, 54]), array([55, 56, 57, 58, 59, 60, 61, 62, 63, 64, 65]), array([66, 67, 68, 69, 70, 71, 72, 73, 74, 75, 76]), array([77, 78, 79, 80, 81, 82, 83, 84, 85, 86, 87]), array([88, 89, 90, 91, 92, 93, 94, 95, 96, 97]), array([ 98,  99, 100, 101, 102, 103, 104, 105, 106, 107]), array([108, 109, 110, 111, 112, 113, 114, 115, 116, 117]), array([118, 119, 120, 121, 122, 123, 124, 125, 126, 127]), array([128, 129, 130, 131, 132, 133, 134, 135, 136, 137]), array([138, 139, 140, 141, 142, 143, 144, 145, 146, 147]), array([148, 149, 150, 151, 152, 153, 154, 155, 156, 157]), array([158, 159, 160, 161, 162, 163, 164, 165, 166, 167]), array([168, 169, 170, 171, 172, 173, 174, 175, 176, 177]), array([178, 179, 180, 181, 182, 183, 184, 185, 186, 187]), array([188, 189, 190, 191, 192, 193, 194, 195, 196, 197]), array([198, 199, 200, 201, 202, 203, 204, 205, 206, 207]), array([208, 209, 210, 211, 212, 213, 214, 215, 216, 217]), array([218, 219, 220, 221, 222, 223, 224, 225, 226, 227]), array([228, 229, 230, 231, 232, 233, 234, 235, 236, 237]), array([238, 239, 240, 241, 242, 243, 244, 245, 246, 247]), array([248, 249, 250, 251, 252, 253, 254, 255, 256, 257]), array([258, 259, 260, 261, 262, 263, 264, 265, 266, 267])]\n"
     ]
    }
   ],
   "source": [
    "index=groupByLabel(Y)\n",
    "print (index)"
   ]
  },
  {
   "cell_type": "markdown",
   "metadata": {},
   "source": [
    "### 3. Apprendre les modèles CM"
   ]
  },
  {
   "cell_type": "code",
   "execution_count": 13,
   "metadata": {
    "collapsed": false
   },
   "outputs": [],
   "source": [
    "def learnMarkovModel(Xc,d):\n",
    "    A = np.zeros((d,d))\n",
    "    Pi = np.zeros(d)\n",
    "    for X in Xc:\n",
    "        i=X[0]\n",
    "        Pi[i]+=1.\n",
    "        for j in X[1:]:\n",
    "            A[i][j]+=1.\n",
    "            i=j\n",
    "    \n",
    "    A = A/np.maximum(A.sum(1).reshape(d,1),1) # normalisation\n",
    "    Pi = Pi/Pi.sum()\n",
    "    return (Pi,A)"
   ]
  },
  {
   "cell_type": "code",
   "execution_count": 14,
   "metadata": {
    "collapsed": false
   },
   "outputs": [
    {
     "name": "stdout",
     "output_type": "stream",
     "text": [
      "(array([ 0.27272727,  0.        ,  0.09090909,  0.        ,  0.        ,\n",
      "        0.        ,  0.        ,  0.        ,  0.        ,  0.        ,\n",
      "        0.        ,  0.        ,  0.        ,  0.        ,  0.        ,\n",
      "        0.        ,  0.        ,  0.18181818,  0.27272727,  0.18181818]), array([[ 0.4       ,  0.45      ,  0.        ,  0.        ,  0.        ,\n",
      "         0.        ,  0.        ,  0.        ,  0.        ,  0.        ,\n",
      "         0.        ,  0.        ,  0.        ,  0.        ,  0.        ,\n",
      "         0.        ,  0.        ,  0.        ,  0.1       ,  0.05      ],\n",
      "       [ 0.13333333,  0.66666667,  0.2       ,  0.        ,  0.        ,\n",
      "         0.        ,  0.        ,  0.        ,  0.        ,  0.        ,\n",
      "         0.        ,  0.        ,  0.        ,  0.        ,  0.        ,\n",
      "         0.        ,  0.        ,  0.        ,  0.        ,  0.        ],\n",
      "       [ 0.        ,  0.2       ,  0.6       ,  0.        ,  0.        ,\n",
      "         0.        ,  0.        ,  0.        ,  0.        ,  0.        ,\n",
      "         0.        ,  0.        ,  0.        ,  0.        ,  0.        ,\n",
      "         0.        ,  0.        ,  0.        ,  0.        ,  0.2       ],\n",
      "       [ 0.        ,  0.        ,  0.        ,  0.        ,  0.        ,\n",
      "         0.        ,  1.        ,  0.        ,  0.        ,  0.        ,\n",
      "         0.        ,  0.        ,  0.        ,  0.        ,  0.        ,\n",
      "         0.        ,  0.        ,  0.        ,  0.        ,  0.        ],\n",
      "       [ 0.        ,  0.        ,  0.        ,  0.        ,  0.        ,\n",
      "         0.        ,  0.        ,  0.        ,  0.        ,  0.        ,\n",
      "         0.        ,  0.        ,  0.        ,  0.        ,  0.        ,\n",
      "         0.        ,  0.        ,  0.        ,  0.        ,  0.        ],\n",
      "       [ 0.        ,  0.        ,  0.        ,  0.        ,  0.        ,\n",
      "         0.        ,  0.        ,  0.        ,  0.        ,  0.        ,\n",
      "         0.        ,  0.        ,  0.        ,  0.        ,  0.        ,\n",
      "         0.        ,  0.        ,  0.        ,  0.        ,  0.        ],\n",
      "       [ 0.        ,  0.        ,  0.        ,  0.        ,  0.        ,\n",
      "         0.        ,  0.        ,  0.25      ,  0.25      ,  0.5       ,\n",
      "         0.        ,  0.        ,  0.        ,  0.        ,  0.        ,\n",
      "         0.        ,  0.        ,  0.        ,  0.        ,  0.        ],\n",
      "       [ 0.        ,  0.        ,  0.        ,  0.        ,  0.        ,\n",
      "         0.        ,  0.        ,  0.        ,  0.33333333,  0.66666667,\n",
      "         0.        ,  0.        ,  0.        ,  0.        ,  0.        ,\n",
      "         0.        ,  0.        ,  0.        ,  0.        ,  0.        ],\n",
      "       [ 0.        ,  0.        ,  0.        ,  0.        ,  0.        ,\n",
      "         0.        ,  0.        ,  0.        ,  0.25      ,  0.25      ,\n",
      "         0.5       ,  0.        ,  0.        ,  0.        ,  0.        ,\n",
      "         0.        ,  0.        ,  0.        ,  0.        ,  0.        ],\n",
      "       [ 0.        ,  0.        ,  0.        ,  0.        ,  0.        ,\n",
      "         0.        ,  0.        ,  0.        ,  0.        ,  0.        ,\n",
      "         0.83333333,  0.16666667,  0.        ,  0.        ,  0.        ,\n",
      "         0.        ,  0.        ,  0.        ,  0.        ,  0.        ],\n",
      "       [ 0.        ,  0.        ,  0.        ,  0.        ,  0.        ,\n",
      "         0.        ,  0.        ,  0.        ,  0.        ,  0.07692308,\n",
      "         0.15384615,  0.76923077,  0.        ,  0.        ,  0.        ,\n",
      "         0.        ,  0.        ,  0.        ,  0.        ,  0.        ],\n",
      "       [ 0.        ,  0.        ,  0.        ,  0.        ,  0.        ,\n",
      "         0.        ,  0.        ,  0.        ,  0.        ,  0.        ,\n",
      "         0.17647059,  0.17647059,  0.58823529,  0.05882353,  0.        ,\n",
      "         0.        ,  0.        ,  0.        ,  0.        ,  0.        ],\n",
      "       [ 0.        ,  0.        ,  0.        ,  0.        ,  0.        ,\n",
      "         0.        ,  0.        ,  0.        ,  0.0625    ,  0.        ,\n",
      "         0.        ,  0.        ,  0.3125    ,  0.625     ,  0.        ,\n",
      "         0.        ,  0.        ,  0.        ,  0.        ,  0.        ],\n",
      "       [ 0.        ,  0.        ,  0.        ,  0.        ,  0.        ,\n",
      "         0.        ,  0.        ,  0.        ,  0.        ,  0.        ,\n",
      "         0.        ,  0.        ,  0.        ,  0.08333333,  0.5       ,\n",
      "         0.41666667,  0.        ,  0.        ,  0.        ,  0.        ],\n",
      "       [ 0.        ,  0.        ,  0.        ,  0.        ,  0.        ,\n",
      "         0.        ,  0.        ,  0.        ,  0.        ,  0.        ,\n",
      "         0.        ,  0.        ,  0.        ,  0.        ,  0.125     ,\n",
      "         0.375     ,  0.25      ,  0.25      ,  0.        ,  0.        ],\n",
      "       [ 0.        ,  0.        ,  0.        ,  0.0625    ,  0.        ,\n",
      "         0.        ,  0.        ,  0.        ,  0.        ,  0.        ,\n",
      "         0.        ,  0.0625    ,  0.        ,  0.        ,  0.0625    ,\n",
      "         0.3125    ,  0.1875    ,  0.25      ,  0.0625    ,  0.        ],\n",
      "       [ 0.        ,  0.        ,  0.        ,  0.        ,  0.        ,\n",
      "         0.        ,  0.04545455,  0.04545455,  0.        ,  0.        ,\n",
      "         0.        ,  0.04545455,  0.04545455,  0.        ,  0.        ,\n",
      "         0.13636364,  0.40909091,  0.04545455,  0.04545455,  0.18181818],\n",
      "       [ 0.        ,  0.        ,  0.        ,  0.03030303,  0.        ,\n",
      "         0.        ,  0.        ,  0.        ,  0.        ,  0.        ,\n",
      "         0.03030303,  0.03030303,  0.        ,  0.        ,  0.        ,\n",
      "         0.        ,  0.24242424,  0.39393939,  0.18181818,  0.09090909],\n",
      "       [ 0.125     ,  0.04166667,  0.        ,  0.        ,  0.        ,\n",
      "         0.        ,  0.        ,  0.04166667,  0.        ,  0.        ,\n",
      "         0.        ,  0.        ,  0.        ,  0.        ,  0.        ,\n",
      "         0.        ,  0.        ,  0.375     ,  0.33333333,  0.08333333],\n",
      "       [ 0.5       ,  0.        ,  0.        ,  0.        ,  0.        ,\n",
      "         0.        ,  0.07142857,  0.        ,  0.        ,  0.        ,\n",
      "         0.        ,  0.        ,  0.        ,  0.        ,  0.        ,\n",
      "         0.        ,  0.        ,  0.14285714,  0.21428571,  0.07142857]]))\n"
     ]
    },
    {
     "name": "stderr",
     "output_type": "stream",
     "text": [
      "/home/like/anaconda3/lib/python3.5/site-packages/ipykernel/__main__.py:6: VisibleDeprecationWarning: using a non-integer number instead of an integer will result in an error in the future\n",
      "/home/like/anaconda3/lib/python3.5/site-packages/ipykernel/__main__.py:8: VisibleDeprecationWarning: using a non-integer number instead of an integer will result in an error in the future\n"
     ]
    }
   ],
   "source": [
    "print (learnMarkovModel(discretise(X[index[0][0]:index[1][0]],20),20))"
   ]
  },
  {
   "cell_type": "markdown",
   "metadata": {},
   "source": [
    "### 4. Stocker les modèles dans une liste"
   ]
  },
  {
   "cell_type": "code",
   "execution_count": 15,
   "metadata": {
    "collapsed": true
   },
   "outputs": [],
   "source": [
    "def model(d):\n",
    "\n",
    "\tXd = discretise(X,d)  # application de la discretisation\n",
    "\tindex = groupByLabel(Y)  # groupement des signaux par classe\n",
    "\tmodels = []\n",
    "\tfor cl in range(len(np.unique(Y))): # parcours de toutes les classes et optimisation des modeles\n",
    "\t\tmodels.append(learnMarkovModel(Xd[index[cl]], d))\n",
    "\treturn Xd,models"
   ]
  },
  {
   "cell_type": "code",
   "execution_count": 16,
   "metadata": {
    "collapsed": false
   },
   "outputs": [
    {
     "name": "stdout",
     "output_type": "stream",
     "text": [
      "268\n",
      "(array([ 0.27272727,  0.        ,  0.09090909,  0.        ,  0.        ,\n",
      "        0.        ,  0.        ,  0.        ,  0.        ,  0.        ,\n",
      "        0.        ,  0.        ,  0.        ,  0.        ,  0.        ,\n",
      "        0.        ,  0.        ,  0.18181818,  0.27272727,  0.18181818]), array([[ 0.4       ,  0.45      ,  0.        ,  0.        ,  0.        ,\n",
      "         0.        ,  0.        ,  0.        ,  0.        ,  0.        ,\n",
      "         0.        ,  0.        ,  0.        ,  0.        ,  0.        ,\n",
      "         0.        ,  0.        ,  0.        ,  0.1       ,  0.05      ],\n",
      "       [ 0.13333333,  0.66666667,  0.2       ,  0.        ,  0.        ,\n",
      "         0.        ,  0.        ,  0.        ,  0.        ,  0.        ,\n",
      "         0.        ,  0.        ,  0.        ,  0.        ,  0.        ,\n",
      "         0.        ,  0.        ,  0.        ,  0.        ,  0.        ],\n",
      "       [ 0.        ,  0.2       ,  0.6       ,  0.        ,  0.        ,\n",
      "         0.        ,  0.        ,  0.        ,  0.        ,  0.        ,\n",
      "         0.        ,  0.        ,  0.        ,  0.        ,  0.        ,\n",
      "         0.        ,  0.        ,  0.        ,  0.        ,  0.2       ],\n",
      "       [ 0.        ,  0.        ,  0.        ,  0.        ,  0.        ,\n",
      "         0.        ,  1.        ,  0.        ,  0.        ,  0.        ,\n",
      "         0.        ,  0.        ,  0.        ,  0.        ,  0.        ,\n",
      "         0.        ,  0.        ,  0.        ,  0.        ,  0.        ],\n",
      "       [ 0.        ,  0.        ,  0.        ,  0.        ,  0.        ,\n",
      "         0.        ,  0.        ,  0.        ,  0.        ,  0.        ,\n",
      "         0.        ,  0.        ,  0.        ,  0.        ,  0.        ,\n",
      "         0.        ,  0.        ,  0.        ,  0.        ,  0.        ],\n",
      "       [ 0.        ,  0.        ,  0.        ,  0.        ,  0.        ,\n",
      "         0.        ,  0.        ,  0.        ,  0.        ,  0.        ,\n",
      "         0.        ,  0.        ,  0.        ,  0.        ,  0.        ,\n",
      "         0.        ,  0.        ,  0.        ,  0.        ,  0.        ],\n",
      "       [ 0.        ,  0.        ,  0.        ,  0.        ,  0.        ,\n",
      "         0.        ,  0.        ,  0.25      ,  0.25      ,  0.5       ,\n",
      "         0.        ,  0.        ,  0.        ,  0.        ,  0.        ,\n",
      "         0.        ,  0.        ,  0.        ,  0.        ,  0.        ],\n",
      "       [ 0.        ,  0.        ,  0.        ,  0.        ,  0.        ,\n",
      "         0.        ,  0.        ,  0.        ,  0.33333333,  0.66666667,\n",
      "         0.        ,  0.        ,  0.        ,  0.        ,  0.        ,\n",
      "         0.        ,  0.        ,  0.        ,  0.        ,  0.        ],\n",
      "       [ 0.        ,  0.        ,  0.        ,  0.        ,  0.        ,\n",
      "         0.        ,  0.        ,  0.        ,  0.25      ,  0.25      ,\n",
      "         0.5       ,  0.        ,  0.        ,  0.        ,  0.        ,\n",
      "         0.        ,  0.        ,  0.        ,  0.        ,  0.        ],\n",
      "       [ 0.        ,  0.        ,  0.        ,  0.        ,  0.        ,\n",
      "         0.        ,  0.        ,  0.        ,  0.        ,  0.        ,\n",
      "         0.83333333,  0.16666667,  0.        ,  0.        ,  0.        ,\n",
      "         0.        ,  0.        ,  0.        ,  0.        ,  0.        ],\n",
      "       [ 0.        ,  0.        ,  0.        ,  0.        ,  0.        ,\n",
      "         0.        ,  0.        ,  0.        ,  0.        ,  0.07692308,\n",
      "         0.15384615,  0.76923077,  0.        ,  0.        ,  0.        ,\n",
      "         0.        ,  0.        ,  0.        ,  0.        ,  0.        ],\n",
      "       [ 0.        ,  0.        ,  0.        ,  0.        ,  0.        ,\n",
      "         0.        ,  0.        ,  0.        ,  0.        ,  0.        ,\n",
      "         0.17647059,  0.17647059,  0.58823529,  0.05882353,  0.        ,\n",
      "         0.        ,  0.        ,  0.        ,  0.        ,  0.        ],\n",
      "       [ 0.        ,  0.        ,  0.        ,  0.        ,  0.        ,\n",
      "         0.        ,  0.        ,  0.        ,  0.0625    ,  0.        ,\n",
      "         0.        ,  0.        ,  0.3125    ,  0.625     ,  0.        ,\n",
      "         0.        ,  0.        ,  0.        ,  0.        ,  0.        ],\n",
      "       [ 0.        ,  0.        ,  0.        ,  0.        ,  0.        ,\n",
      "         0.        ,  0.        ,  0.        ,  0.        ,  0.        ,\n",
      "         0.        ,  0.        ,  0.        ,  0.08333333,  0.5       ,\n",
      "         0.41666667,  0.        ,  0.        ,  0.        ,  0.        ],\n",
      "       [ 0.        ,  0.        ,  0.        ,  0.        ,  0.        ,\n",
      "         0.        ,  0.        ,  0.        ,  0.        ,  0.        ,\n",
      "         0.        ,  0.        ,  0.        ,  0.        ,  0.125     ,\n",
      "         0.375     ,  0.25      ,  0.25      ,  0.        ,  0.        ],\n",
      "       [ 0.        ,  0.        ,  0.        ,  0.0625    ,  0.        ,\n",
      "         0.        ,  0.        ,  0.        ,  0.        ,  0.        ,\n",
      "         0.        ,  0.0625    ,  0.        ,  0.        ,  0.0625    ,\n",
      "         0.3125    ,  0.1875    ,  0.25      ,  0.0625    ,  0.        ],\n",
      "       [ 0.        ,  0.        ,  0.        ,  0.        ,  0.        ,\n",
      "         0.        ,  0.04545455,  0.04545455,  0.        ,  0.        ,\n",
      "         0.        ,  0.04545455,  0.04545455,  0.        ,  0.        ,\n",
      "         0.13636364,  0.40909091,  0.04545455,  0.04545455,  0.18181818],\n",
      "       [ 0.        ,  0.        ,  0.        ,  0.03030303,  0.        ,\n",
      "         0.        ,  0.        ,  0.        ,  0.        ,  0.        ,\n",
      "         0.03030303,  0.03030303,  0.        ,  0.        ,  0.        ,\n",
      "         0.        ,  0.24242424,  0.39393939,  0.18181818,  0.09090909],\n",
      "       [ 0.125     ,  0.04166667,  0.        ,  0.        ,  0.        ,\n",
      "         0.        ,  0.        ,  0.04166667,  0.        ,  0.        ,\n",
      "         0.        ,  0.        ,  0.        ,  0.        ,  0.        ,\n",
      "         0.        ,  0.        ,  0.375     ,  0.33333333,  0.08333333],\n",
      "       [ 0.5       ,  0.        ,  0.        ,  0.        ,  0.        ,\n",
      "         0.        ,  0.07142857,  0.        ,  0.        ,  0.        ,\n",
      "         0.        ,  0.        ,  0.        ,  0.        ,  0.        ,\n",
      "         0.        ,  0.        ,  0.14285714,  0.21428571,  0.07142857]]))\n"
     ]
    },
    {
     "name": "stderr",
     "output_type": "stream",
     "text": [
      "/home/like/anaconda3/lib/python3.5/site-packages/ipykernel/__main__.py:6: VisibleDeprecationWarning: using a non-integer number instead of an integer will result in an error in the future\n",
      "/home/like/anaconda3/lib/python3.5/site-packages/ipykernel/__main__.py:8: VisibleDeprecationWarning: using a non-integer number instead of an integer will result in an error in the future\n"
     ]
    }
   ],
   "source": [
    "d=20\n",
    "Xd,models=model(d)\n",
    "print (len(Xd))\n",
    "print (models[0])"
   ]
  },
  {
   "cell_type": "markdown",
   "metadata": {},
   "source": [
    "### 5. Probabilité d'une séquence dans un modèle"
   ]
  },
  {
   "cell_type": "code",
   "execution_count": 17,
   "metadata": {
    "collapsed": true
   },
   "outputs": [],
   "source": [
    "def probaSequence(s,Pi,A):\n",
    "\t\n",
    "\tj=s[0]\n",
    "\tp=Pi[j]\n",
    "\tfor i in s[1:]:\n",
    "\t\tp*=A[j][i]\n",
    "\t\tj=i\n",
    "\treturn np.log(p)"
   ]
  },
  {
   "cell_type": "markdown",
   "metadata": {},
   "source": [
    "### 6. Application de la méthode précédente pour tous les signaux et tous les modèles de lettres"
   ]
  },
  {
   "cell_type": "code",
   "execution_count": 18,
   "metadata": {
    "collapsed": false
   },
   "outputs": [
    {
     "name": "stderr",
     "output_type": "stream",
     "text": [
      "/home/like/anaconda3/lib/python3.5/site-packages/ipykernel/__main__.py:4: VisibleDeprecationWarning: using a non-integer number instead of an integer will result in an error in the future\n",
      "/home/like/anaconda3/lib/python3.5/site-packages/ipykernel/__main__.py:6: VisibleDeprecationWarning: using a non-integer number instead of an integer will result in an error in the future\n",
      "/home/like/anaconda3/lib/python3.5/site-packages/ipykernel/__main__.py:8: RuntimeWarning: divide by zero encountered in log\n"
     ]
    },
    {
     "name": "stdout",
     "output_type": "stream",
     "text": [
      "-27.9933698208\n",
      "[[-27.99336982 -24.00913067 -31.55305134 ...,         -inf         -inf\n",
      "          -inf]\n",
      " [        -inf         -inf         -inf ...,         -inf         -inf\n",
      "          -inf]\n",
      " [        -inf         -inf         -inf ...,         -inf         -inf\n",
      "          -inf]\n",
      " ..., \n",
      " [        -inf         -inf         -inf ...,         -inf         -inf\n",
      "          -inf]\n",
      " [        -inf         -inf         -inf ...,         -inf         -inf\n",
      "          -inf]\n",
      " [        -inf         -inf         -inf ..., -28.38500135 -26.85388545\n",
      "  -36.27352933]]\n"
     ]
    }
   ],
   "source": [
    "print (probaSequence(Xd[0],models[0][0],models[0][1]))\n",
    "proba = np.array([[probaSequence(Xd[i], models[cl][0], models[cl][1]) for i in range(len(Xd))]for cl in range(len(np.unique(Y)))])\n",
    "print (proba)"
   ]
  },
  {
   "cell_type": "markdown",
   "metadata": {},
   "source": [
    "### 7. Evaluation des performances"
   ]
  },
  {
   "cell_type": "code",
   "execution_count": 19,
   "metadata": {
    "collapsed": false
   },
   "outputs": [],
   "source": [
    "def evalPerformances(Y):\n",
    "\tYnum = np.zeros(Y.shape)\n",
    "\tfor num,char in enumerate(np.unique(Y)):\n",
    "\t\tYnum[Y==char] = num\n",
    "\tpred = proba.argmax(0)\n",
    "\tprint (np.where(pred != Ynum, 0.,1.).mean())"
   ]
  },
  {
   "cell_type": "code",
   "execution_count": 20,
   "metadata": {
    "collapsed": false
   },
   "outputs": [
    {
     "name": "stdout",
     "output_type": "stream",
     "text": [
      "0.914179104478\n"
     ]
    }
   ],
   "source": [
    "evalPerformances(Y)"
   ]
  }
 ],
 "metadata": {
  "anaconda-cloud": {},
  "kernelspec": {
   "display_name": "Python [default]",
   "language": "python",
   "name": "python3"
  },
  "language_info": {
   "codemirror_mode": {
    "name": "ipython",
    "version": 3
   },
   "file_extension": ".py",
   "mimetype": "text/x-python",
   "name": "python",
   "nbconvert_exporter": "python",
   "pygments_lexer": "ipython3",
   "version": "3.5.2"
  }
 },
 "nbformat": 4,
 "nbformat_minor": 1
}
